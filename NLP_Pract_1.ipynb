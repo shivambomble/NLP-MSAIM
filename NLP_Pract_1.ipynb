{
 "cells": [
  {
   "cell_type": "markdown",
   "metadata": {
    "vscode": {
     "languageId": "plaintext"
    }
   },
   "source": [
    "# Shivam Bomble\n",
    "MSAIM 3 2448510 NLP LAB 1"
   ]
  },
  {
   "cell_type": "markdown",
   "metadata": {},
   "source": [
    "In the fascinating domain of Natural Language Processing (NLP), we explore how machines understand and generate human language. 🤖✨ For instance, consider the sentence: \"I don’t think AI will replace humans, but it will transform industries! 🌍🚀 However, challenges like bias and ethics can’t be ignored.\""
   ]
  },
  {
   "cell_type": "markdown",
   "metadata": {},
   "source": [
    "# Word Tokenization"
   ]
  },
  {
   "cell_type": "code",
   "execution_count": 7,
   "metadata": {},
   "outputs": [
    {
     "name": "stdout",
     "output_type": "stream",
     "text": [
      "['I', 'don', '’', 't', 'think', 'AI', 'will', 'replace', 'humans', ',', 'but', 'it', 'will', 'transform', 'industries', '!']\n"
     ]
    }
   ],
   "source": [
    "from nltk.tokenize import word_tokenize\n",
    "print(word_tokenize(\"I don’t think AI will replace humans, but it will transform industries!\"))"
   ]
  },
  {
   "cell_type": "markdown",
   "metadata": {},
   "source": [
    "# Sentence Tokenization"
   ]
  },
  {
   "cell_type": "code",
   "execution_count": 8,
   "metadata": {},
   "outputs": [
    {
     "name": "stdout",
     "output_type": "stream",
     "text": [
      "['I don’t think AI will replace humans.', 'But it will transform industries!']\n"
     ]
    }
   ],
   "source": [
    "from nltk.tokenize import sent_tokenize\n",
    "print(sent_tokenize(\"I don’t think AI will replace humans. But it will transform industries!\"))"
   ]
  },
  {
   "cell_type": "markdown",
   "metadata": {},
   "source": [
    "# Punctuation-based Tokenizer"
   ]
  },
  {
   "cell_type": "code",
   "execution_count": 9,
   "metadata": {},
   "outputs": [
    {
     "name": "stdout",
     "output_type": "stream",
     "text": [
      "['I', 'don', \"'\", 't', 'think', 'AI', 'will', 'replace', 'humans', '.']\n"
     ]
    }
   ],
   "source": [
    "from nltk.tokenize import WordPunctTokenizer\n",
    "print(WordPunctTokenizer().tokenize(\"I don't think AI will replace humans.\"))"
   ]
  },
  {
   "cell_type": "markdown",
   "metadata": {},
   "source": [
    "# Treebank Word Tokenizer"
   ]
  },
  {
   "cell_type": "code",
   "execution_count": 10,
   "metadata": {},
   "outputs": [
    {
     "name": "stdout",
     "output_type": "stream",
     "text": [
      "['I', 'do', \"n't\", 'think', 'AI', 'will', 'replace', 'humans', '.']\n"
     ]
    }
   ],
   "source": [
    "from nltk.tokenize import TreebankWordTokenizer\n",
    "print(TreebankWordTokenizer().tokenize(\"I don't think AI will replace humans.\"))"
   ]
  },
  {
   "cell_type": "markdown",
   "metadata": {},
   "source": [
    "# Tweet Tokenizer"
   ]
  },
  {
   "cell_type": "code",
   "execution_count": 11,
   "metadata": {},
   "outputs": [
    {
     "name": "stdout",
     "output_type": "stream",
     "text": [
      "['I', 'don', '’', 't', 'think', 'AI', 'will', 'replace', 'humans', '🌍', '🚀']\n"
     ]
    }
   ],
   "source": [
    "from nltk.tokenize import TweetTokenizer\n",
    "print(TweetTokenizer().tokenize(\"I don’t think AI will replace humans 🌍🚀\"))"
   ]
  },
  {
   "cell_type": "markdown",
   "metadata": {},
   "source": [
    "# Multi-Word Expression Tokenizer"
   ]
  },
  {
   "cell_type": "code",
   "execution_count": 12,
   "metadata": {},
   "outputs": [
    {
     "name": "stdout",
     "output_type": "stream",
     "text": [
      "['Natural_Language_Processing', 'is', 'amazing', '!']\n"
     ]
    }
   ],
   "source": [
    "from nltk.tokenize import MWETokenizer\n",
    "tokenizer = MWETokenizer([('Natural', 'Language', 'Processing')])\n",
    "print(tokenizer.tokenize(word_tokenize(\"Natural Language Processing is amazing!\")))"
   ]
  },
  {
   "cell_type": "markdown",
   "metadata": {},
   "source": [
    "# TextBlob Word Tokenize"
   ]
  },
  {
   "cell_type": "code",
   "execution_count": 16,
   "metadata": {},
   "outputs": [
    {
     "name": "stdout",
     "output_type": "stream",
     "text": [
      "['However', 'challenges', 'like', 'bias', 'and', 'ethics', 'can', '’', 't', 'be', 'ignored']\n"
     ]
    }
   ],
   "source": [
    "from textblob import TextBlob\n",
    "print(TextBlob(\"However, challenges like bias and ethics can’t be ignored.\").words)"
   ]
  },
  {
   "cell_type": "markdown",
   "metadata": {},
   "source": [
    "# spaCy Tokenizer"
   ]
  },
  {
   "cell_type": "code",
   "execution_count": 17,
   "metadata": {},
   "outputs": [
    {
     "name": "stdout",
     "output_type": "stream",
     "text": [
      "['I', 'do', \"n't\", 'think', 'AI', 'will', 'replace', 'humans', '.']\n"
     ]
    }
   ],
   "source": [
    "import spacy\n",
    "nlp = spacy.load(\"en_core_web_sm\")\n",
    "doc = nlp(\"I don't think AI will replace humans.\")\n",
    "print([token.text for token in doc])"
   ]
  },
  {
   "cell_type": "markdown",
   "metadata": {},
   "source": [
    "# Gensim Word Tokenizer"
   ]
  },
  {
   "cell_type": "code",
   "execution_count": 3,
   "metadata": {},
   "outputs": [
    {
     "name": "stdout",
     "output_type": "stream",
     "text": [
      "['don', 't', 'think', 'AI', 'will', 'replace', 'humans', 'but', 'it', 'will', 'transform', 'industries', 'However', 'challenges', 'like', 'bias', 'and', 'ethics', 'can', 't', 'be', 'ignored']\n"
     ]
    }
   ],
   "source": [
    "from gensim.utils import tokenize\n",
    "print(list(tokenize(\" don’t think AI will replace humans, but it will transform industries! 🌍🚀 However, challenges like bias and ethics can’t be ignored.\")))"
   ]
  },
  {
   "cell_type": "markdown",
   "metadata": {},
   "source": [
    "# Tokenizer with Keras"
   ]
  },
  {
   "cell_type": "code",
   "execution_count": 4,
   "metadata": {},
   "outputs": [
    {
     "name": "stdout",
     "output_type": "stream",
     "text": [
      "['i', 'don’t', 'think', 'ai', 'will', 'replace', 'humans']\n"
     ]
    }
   ],
   "source": [
    "from keras.preprocessing.text import text_to_word_sequence\n",
    "print(text_to_word_sequence(\"I don’t think AI will replace humans.\"))"
   ]
  },
  {
   "cell_type": "markdown",
   "metadata": {},
   "source": [
    "## When to Use Which Tokenizer?\n",
    "Basic Text Preprocessing: Word Tokenization, TextBlob.\n",
    "\n",
    "Sentence-Level Tasks: Sentence Tokenization.\n",
    "\n",
    "Social Media Text: Tweet Tokenizer.\n",
    "\n",
    "Linguistic Analysis: Treebank Tokenizer, spaCy.\n",
    "\n",
    "Domain-Specific Phrases: MWE Tokenizer.\n",
    "\n",
    "Large-Scale Text Processing: Gensim.\n",
    "\n",
    "Deep Learning Models: Keras Tokenizer."
   ]
  }
 ],
 "metadata": {
  "kernelspec": {
   "display_name": "Python 3",
   "language": "python",
   "name": "python3"
  },
  "language_info": {
   "codemirror_mode": {
    "name": "ipython",
    "version": 3
   },
   "file_extension": ".py",
   "mimetype": "text/x-python",
   "name": "python",
   "nbconvert_exporter": "python",
   "pygments_lexer": "ipython3",
   "version": "3.10.8"
  }
 },
 "nbformat": 4,
 "nbformat_minor": 2
}
