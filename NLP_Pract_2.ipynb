{
 "cells": [
  {
   "cell_type": "markdown",
   "metadata": {},
   "source": [
    "# Shivam Bomble\n",
    "MSAIM 3 2448510 NLP LAB 2"
   ]
  },
  {
   "cell_type": "code",
   "execution_count": 2,
   "metadata": {},
   "outputs": [],
   "source": [
    "import nltk\n",
    "from nltk.tokenize import word_tokenize, RegexpTokenizer\n",
    "from nltk.corpus import stopwords\n",
    "from nltk.util import ngrams\n",
    "from nltk.tag import pos_tag\n",
    "from nltk.stem import WordNetLemmatizer\n",
    "import string\n",
    "import matplotlib.pyplot as plt\n",
    "import seaborn as sns\n",
    "import re\n",
    "from collections import Counter\n",
    "import pandas as pd\n",
    "from datetime import datetime"
   ]
  },
  {
   "cell_type": "code",
   "execution_count": 3,
   "metadata": {},
   "outputs": [
    {
     "name": "stderr",
     "output_type": "stream",
     "text": [
      "[nltk_data] Downloading package punkt to\n",
      "[nltk_data]     C:\\Users\\Admin\\AppData\\Roaming\\nltk_data...\n",
      "[nltk_data]   Package punkt is already up-to-date!\n",
      "[nltk_data] Downloading package stopwords to\n",
      "[nltk_data]     C:\\Users\\Admin\\AppData\\Roaming\\nltk_data...\n",
      "[nltk_data]   Package stopwords is already up-to-date!\n",
      "[nltk_data] Downloading package averaged_perceptron_tagger to\n",
      "[nltk_data]     C:\\Users\\Admin\\AppData\\Roaming\\nltk_data...\n",
      "[nltk_data]   Unzipping taggers\\averaged_perceptron_tagger.zip.\n",
      "[nltk_data] Downloading package wordnet to\n",
      "[nltk_data]     C:\\Users\\Admin\\AppData\\Roaming\\nltk_data...\n"
     ]
    },
    {
     "data": {
      "text/plain": [
       "True"
      ]
     },
     "execution_count": 3,
     "metadata": {},
     "output_type": "execute_result"
    }
   ],
   "source": [
    "# Download required NLTK data\n",
    "nltk.download('punkt')\n",
    "nltk.download('stopwords')\n",
    "nltk.download('averaged_perceptron_tagger')\n",
    "nltk.download('wordnet')"
   ]
  },
  {
   "cell_type": "code",
   "execution_count": 5,
   "metadata": {},
   "outputs": [
    {
     "name": "stderr",
     "output_type": "stream",
     "text": [
      "[nltk_data] Downloading package punkt_tab to\n",
      "[nltk_data]     C:\\Users\\Admin\\AppData\\Roaming\\nltk_data...\n",
      "[nltk_data]   Unzipping tokenizers\\punkt_tab.zip.\n"
     ]
    },
    {
     "data": {
      "text/plain": [
       "True"
      ]
     },
     "execution_count": 5,
     "metadata": {},
     "output_type": "execute_result"
    }
   ],
   "source": [
    "import nltk\n",
    "nltk.download('punkt_tab')"
   ]
  },
  {
   "cell_type": "code",
   "execution_count": 7,
   "metadata": {},
   "outputs": [
    {
     "name": "stderr",
     "output_type": "stream",
     "text": [
      "[nltk_data] Downloading package averaged_perceptron_tagger_eng to\n",
      "[nltk_data]     C:\\Users\\Admin\\AppData\\Roaming\\nltk_data...\n",
      "[nltk_data]   Unzipping taggers\\averaged_perceptron_tagger_eng.zip.\n"
     ]
    },
    {
     "data": {
      "text/plain": [
       "True"
      ]
     },
     "execution_count": 7,
     "metadata": {},
     "output_type": "execute_result"
    }
   ],
   "source": [
    "import nltk\n",
    "nltk.download('averaged_perceptron_tagger_eng')"
   ]
  },
  {
   "cell_type": "code",
   "execution_count": null,
   "metadata": {},
   "outputs": [],
   "source": [
    "text = \"\"\"As an AI enthusiast working at Tech Solutions Inc., I don't hesitate to explore new machine learning models! \n",
    "My colleague, John (john.doe@techsolutions.com), who was born on 27-March-2000, and I collaborate on fascinating \n",
    "projects. You can reach our team at +1-555-0123 for innovative AI solutions & data analysis.\"\"\""
   ]
  },
  {
   "cell_type": "code",
   "execution_count": 9,
   "metadata": {},
   "outputs": [
    {
     "name": "stdout",
     "output_type": "stream",
     "text": [
      "Number of unique tokens: 51\n"
     ]
    }
   ],
   "source": [
    "tokens = word_tokenize(text)\n",
    "unique_tokens = set(tokens)\n",
    "print(f\"Number of unique tokens: {len(unique_tokens)}\")"
   ]
  },
  {
   "cell_type": "markdown",
   "metadata": {},
   "source": [
    "1. Text Tokenization and Unique Token Analysis\n",
    "Insights:\n",
    "\n",
    "Helps understand vocabulary richness. Identifies unique terms in the text. Useful for text complexity assessment"
   ]
  },
  {
   "cell_type": "code",
   "execution_count": 10,
   "metadata": {},
   "outputs": [
    {
     "name": "stdout",
     "output_type": "stream",
     "text": [
      "Number of punctuation characters: 20\n",
      "Text without punctuation:\n",
      "As an AI enthusiast working at Tech Solutions Inc I dont hesitate to explore new machine learning models \n",
      "My colleague John johndoetechsolutionscom who was born on 27March2000 and I collaborate on fascinating \n",
      "projects You can reach our team at 15550123 for innovative AI solutions  data analysis\n"
     ]
    }
   ],
   "source": [
    "import string\n",
    "\n",
    "punct_count = sum(1 for char in text if char in string.punctuation)\n",
    "text_no_punct = ''.join(char for char in text if char not in string.punctuation)\n",
    "\n",
    "print(f\"Number of punctuation characters: {punct_count}\")\n",
    "print(f\"Text without punctuation:\\n{text_no_punct}\")"
   ]
  },
  {
   "cell_type": "markdown",
   "metadata": {},
   "source": [
    "2. Punctuation Analysis\n",
    "Insights:\n",
    "Indicates writing style. Helps in text normalization. Useful for text cleaning"
   ]
  },
  {
   "cell_type": "code",
   "execution_count": 11,
   "metadata": {},
   "outputs": [
    {
     "name": "stderr",
     "output_type": "stream",
     "text": [
      "[nltk_data] Downloading package stopwords to\n",
      "[nltk_data]     C:\\Users\\Admin\\AppData\\Roaming\\nltk_data...\n",
      "[nltk_data]   Package stopwords is already up-to-date!\n"
     ]
    },
    {
     "data": {
      "image/png": "[encoded data removed]",
      "text/plain": [
       "<Figure size 1200x600 with 1 Axes>"
      ]
     },
     "metadata": {},
     "output_type": "display_data"
    }
   ],
   "source": [
    "from nltk.corpus import stopwords\n",
    "from collections import Counter\n",
    "import matplotlib.pyplot as plt\n",
    "import seaborn as sns\n",
    "\n",
    "nltk.download('stopwords')\n",
    "stop_words = set(stopwords.words('english'))\n",
    "text_tokens = word_tokenize(text.lower())\n",
    "stopwords_in_text = [word for word in text_tokens if word in stop_words]\n",
    "stopword_freq = Counter(stopwords_in_text)\n",
    "\n",
    "plt.figure(figsize=(12, 6))\n",
    "sns.barplot(x=list(stopword_freq.keys()), y=list(stopword_freq.values()))\n",
    "plt.xticks(rotation=45)\n",
    "plt.title('Distribution of Stopwords')\n",
    "plt.tight_layout()\n",
    "plt.show()"
   ]
  },
  {
   "cell_type": "markdown",
   "metadata": {},
   "source": [
    "3. Stopwords Analysis\n",
    "Insights:\n",
    "Shows language pattern usage. Identifies common words frequency. Helps in content density analysis"
   ]
  },
  {
   "cell_type": "code",
   "execution_count": 12,
   "metadata": {},
   "outputs": [
    {
     "name": "stdout",
     "output_type": "stream",
     "text": [
      "Text without stopwords:\n",
      "ai enthusiast working tech solutions inc. , n't hesitate explore new machine learning models ! colleague , john ( john.doe @ techsolutions.com ) , born 27-march-2000 , collaborate fascinating projects . reach team +1-555-0123 innovative ai solutions & data analysis .\n"
     ]
    }
   ],
   "source": [
    "text_no_stop = ' '.join([word for word in text_tokens if word not in stop_words])\n",
    "print(\"Text without stopwords:\")\n",
    "print(text_no_stop)"
   ]
  },
  {
   "cell_type": "code",
   "execution_count": 13,
   "metadata": {},
   "outputs": [
    {
     "name": "stderr",
     "output_type": "stream",
     "text": [
      "[nltk_data] Downloading package averaged_perceptron_tagger to\n",
      "[nltk_data]     C:\\Users\\Admin\\AppData\\Roaming\\nltk_data...\n",
      "[nltk_data]   Package averaged_perceptron_tagger is already up-to-\n",
      "[nltk_data]       date!\n"
     ]
    },
    {
     "data": {
      "image/png": "[encoded data removed]",
      "text/plain": [
       "<Figure size 1200x600 with 1 Axes>"
      ]
     },
     "metadata": {},
     "output_type": "display_data"
    }
   ],
   "source": [
    "from nltk import pos_tag\n",
    "nltk.download('averaged_perceptron_tagger')\n",
    "\n",
    "pos_tags = pos_tag(tokens)\n",
    "pos_freq = Counter(tag for word, tag in pos_tags)\n",
    "\n",
    "plt.figure(figsize=(12, 6))\n",
    "sns.barplot(x=list(pos_freq.keys()), y=list(pos_freq.values()))\n",
    "plt.xticks(rotation=45)\n",
    "plt.title('Distribution of POS Tags')\n",
    "plt.tight_layout()\n",
    "plt.show()"
   ]
  },
  {
   "cell_type": "markdown",
   "metadata": {},
   "source": [
    "4. POS (Part of Speech) Tagging\n",
    "Insights: Reveals grammatical structure. Shows language complexity. Identifies sentence patterns"
   ]
  },
  {
   "cell_type": "code",
   "execution_count": 14,
   "metadata": {},
   "outputs": [
    {
     "name": "stdout",
     "output_type": "stream",
     "text": [
      "Number of unique lemmas: 50\n"
     ]
    },
    {
     "name": "stderr",
     "output_type": "stream",
     "text": [
      "[nltk_data] Downloading package wordnet to\n",
      "[nltk_data]     C:\\Users\\Admin\\AppData\\Roaming\\nltk_data...\n",
      "[nltk_data]   Package wordnet is already up-to-date!\n"
     ]
    }
   ],
   "source": [
    "from nltk.stem import WordNetLemmatizer\n",
    "nltk.download('wordnet')\n",
    "\n",
    "lemmatizer = WordNetLemmatizer()\n",
    "lemmas = set(lemmatizer.lemmatize(word.lower()) for word in tokens)\n",
    "print(f\"Number of unique lemmas: {len(lemmas)}\")"
   ]
  },
  {
   "cell_type": "markdown",
   "metadata": {},
   "source": [
    "5. Lemmatization\n",
    "Insights: Reduces word variations. Shows core vocabulary. Helps in standardization."
   ]
  },
  {
   "cell_type": "code",
   "execution_count": 17,
   "metadata": {},
   "outputs": [
    {
     "data": {
      "image/png": "[encoded data removed]",
      "text/plain": [
       "<Figure size 1200x600 with 1 Axes>"
      ]
     },
     "metadata": {},
     "output_type": "display_data"
    }
   ],
   "source": [
    "word_freq = Counter(word.lower() for word in tokens if word.isalnum())\n",
    "top_10 = dict(sorted(word_freq.items(), key=lambda x: x[1], reverse=True)[:10])\n",
    "\n",
    "plt.figure(figsize=(12, 6))\n",
    "sns.barplot(x=list(top_10.keys()), y=list(top_10.values()))\n",
    "plt.xticks(rotation=45)\n",
    "plt.title('Top 10 Most Frequent Words')\n",
    "plt.tight_layout()\n",
    "plt.show()"
   ]
  },
  {
   "cell_type": "markdown",
   "metadata": {},
   "source": [
    "6. Word Frequency Analysis\n",
    "Insights: Identifies key terms. Shows content focus. Reveals writing patterns"
   ]
  },
  {
   "cell_type": "code",
   "execution_count": 18,
   "metadata": {},
   "outputs": [
    {
     "name": "stdout",
     "output_type": "stream",
     "text": [
      "Unique bigrams: 41\n",
      "Unique trigrams: 40\n",
      "Unique quadgrams: 39\n"
     ]
    }
   ],
   "source": [
    "from nltk.util import ngrams\n",
    "\n",
    "words = [word.lower() for word in tokens if word.isalnum()]\n",
    "bigrams = list(ngrams(words, 2))\n",
    "trigrams = list(ngrams(words, 3))\n",
    "quadgrams = list(ngrams(words, 4))\n",
    "\n",
    "print(f\"Unique bigrams: {len(set(bigrams))}\")\n",
    "print(f\"Unique trigrams: {len(set(trigrams))}\")\n",
    "print(f\"Unique quadgrams: {len(set(quadgrams))}\")"
   ]
  },
  {
   "cell_type": "markdown",
   "metadata": {},
   "source": [
    "7. N-gram Analysis\n",
    "Insights: Shows word combinations. Reveals phrase patterns. Identifies common expressions"
   ]
  },
  {
   "cell_type": "code",
   "execution_count": 19,
   "metadata": {},
   "outputs": [
    {
     "name": "stdout",
     "output_type": "stream",
     "text": [
      "Converted dates: ['27-03-2000']\n"
     ]
    }
   ],
   "source": [
    "import re\n",
    "from datetime import datetime\n",
    "\n",
    "date_pattern = r'\\d{1,2}-[A-Za-z]+-\\d{4}'\n",
    "dates = re.findall(date_pattern, text)\n",
    "converted_dates = []\n",
    "\n",
    "for date in dates:\n",
    "    try:\n",
    "        date_obj = datetime.strptime(date, '%d-%B-%Y')\n",
    "        converted_dates.append(date_obj.strftime('%d-%m-%Y'))\n",
    "    except ValueError:\n",
    "        pass\n",
    "\n",
    "print(\"Converted dates:\", converted_dates)"
   ]
  },
  {
   "cell_type": "markdown",
   "metadata": {},
   "source": [
    "8. Date Extraction and Standardization\n",
    "Insights: Temporal information extraction. Date format standardization. Timeline analysis"
   ]
  },
  {
   "cell_type": "code",
   "execution_count": 20,
   "metadata": {},
   "outputs": [
    {
     "data": {
      "image/png": "[encoded data removed]",
      "text/plain": [
       "<Figure size 800x600 with 1 Axes>"
      ]
     },
     "metadata": {},
     "output_type": "display_data"
    }
   ],
   "source": [
    "years = [datetime.strptime(date, '%d-%B-%Y').year for date in dates]\n",
    "year_freq = Counter(years)\n",
    "\n",
    "plt.figure(figsize=(8, 6))\n",
    "sns.barplot(x=list(year_freq.keys()), y=list(year_freq.values()))\n",
    "plt.title('Distribution of Years')\n",
    "plt.tight_layout()\n",
    "plt.show()"
   ]
  },
  {
   "cell_type": "markdown",
   "metadata": {},
   "source": [
    "9. Phone Number Validation\n",
    "Insights: Pattern recognition. Data validation. Contact information extraction"
   ]
  },
  {
   "cell_type": "code",
   "execution_count": 21,
   "metadata": {},
   "outputs": [
    {
     "name": "stdout",
     "output_type": "stream",
     "text": [
      "Valid phone numbers: []\n"
     ]
    }
   ],
   "source": [
    "phone_pattern = r'\\+\\d{1,3}-\\d{3,4}-\\d{4}'\n",
    "phone_numbers = re.findall(phone_pattern, text)\n",
    "valid_phones = []\n",
    "\n",
    "for phone in phone_numbers:\n",
    "    if len(phone.replace('+', '').replace('-', '')) == 10:  # Basic validation\n",
    "        valid_phones.append(phone)\n",
    "\n",
    "print(\"Valid phone numbers:\", valid_phones)"
   ]
  },
  {
   "cell_type": "code",
   "execution_count": null,
   "metadata": {},
   "outputs": [],
   "source": []
  }
 ],
 "metadata": {
  "kernelspec": {
   "display_name": "Python 3",
   "language": "python",
   "name": "python3"
  },
  "language_info": {
   "codemirror_mode": {
    "name": "ipython",
    "version": 3
   },
   "file_extension": ".py",
   "mimetype": "text/x-python",
   "name": "python",
   "nbconvert_exporter": "python",
   "pygments_lexer": "ipython3",
   "version": "3.10.8"
  }
 },
 "nbformat": 4,
 "nbformat_minor": 2
}
